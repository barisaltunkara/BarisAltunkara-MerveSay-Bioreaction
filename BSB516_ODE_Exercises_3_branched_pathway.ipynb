{
 "cells": [
  {
   "cell_type": "code",
   "execution_count": 1,
   "metadata": {},
   "outputs": [],
   "source": [
    "import numpy as np\n",
    "import matplotlib.pyplot as plt\n",
    "import scipy.integrate"
   ]
  },
  {
   "cell_type": "markdown",
   "metadata": {},
   "source": [
    "## ODE System Example: Branched Pathway"
   ]
  },
  {
   "cell_type": "markdown",
   "metadata": {},
   "source": [
    "Let's simulate the ODE system from https://jjj.bio.vu.nl/models/branch5/simulate/"
   ]
  },
  {
   "cell_type": "code",
   "execution_count": 9,
   "metadata": {},
   "outputs": [],
   "source": [
    "def systemODE(h,t):\n",
    "    \n",
    "    S = 10.0 # Assumed fixed (constant)\n",
    "    P1 = 1.0 # Assumed fixed (constant)\n",
    "    P2 = 1.0 # Assumed fixed (constant)\n",
    "    X1 = h[0]\n",
    "    X2 = h[1]\n",
    "    X3 = h[2]\n",
    "    \n",
    "    K = 1.0\n",
    "    Keq = 1.0\n",
    "    V1 = 1.0\n",
    "    V2 = 1.0\n",
    "    V3 = 1.0\n",
    "    V4 = 1.0\n",
    "    V5 = 1.0\n",
    "    \n",
    "    v1 = S*V1*(1-X1/(Keq*S))/(K*(1+S/K+X1/K))\n",
    "    v2 = X1*V1*(1-X3/(Keq*X1))/(K*(1+X1/K+X3/K))\n",
    "    v3 = X1*V3*(1-X2/(Keq*X1))/(K*(1+X1/K+X2/K))\n",
    "    v4 = X1*V4*(1-P1/(Keq*X2))/(K*(1+P1/K+X2/K))\n",
    "    v5 = X1*V5*(1-P2/(Keq*X3))/(K*(1+P2/K+X3/K))\n",
    "    \n",
    "    dX1dt = v1-v2-v3\n",
    "    dX2dt = v3-v4\n",
    "    dX3dt = v2-v5\n",
    "    \n",
    "    # Finally, return the differentials as an array as well!\n",
    "    dhdt = [dX1dt,dX2dt,dX3dt]\n",
    "    return dhdt"
   ]
  },
  {
   "cell_type": "code",
   "execution_count": 10,
   "metadata": {},
   "outputs": [
    {
     "name": "stdout",
     "output_type": "stream",
     "text": [
      "[ 0.   0.1  0.2  0.3  0.4  0.5  0.6  0.7  0.8  0.9  1.   1.1  1.2  1.3\n",
      "  1.4  1.5  1.6  1.7  1.8  1.9  2.   2.1  2.2  2.3  2.4  2.5  2.6  2.7\n",
      "  2.8  2.9  3.   3.1  3.2  3.3  3.4  3.5  3.6  3.7  3.8  3.9  4.   4.1\n",
      "  4.2  4.3  4.4  4.5  4.6  4.7  4.8  4.9  5.   5.1  5.2  5.3  5.4  5.5\n",
      "  5.6  5.7  5.8  5.9  6.   6.1  6.2  6.3  6.4  6.5  6.6  6.7  6.8  6.9\n",
      "  7.   7.1  7.2  7.3  7.4  7.5  7.6  7.7  7.8  7.9  8.   8.1  8.2  8.3\n",
      "  8.4  8.5  8.6  8.7  8.8  8.9  9.   9.1  9.2  9.3  9.4  9.5  9.6  9.7\n",
      "  9.8  9.9 10. ]\n"
     ]
    }
   ],
   "source": [
    "t_array = np.linspace(0,10,101)\n",
    "print(t_array)"
   ]
  },
  {
   "cell_type": "code",
   "execution_count": 11,
   "metadata": {},
   "outputs": [],
   "source": [
    "h0 = [1.0,1.0,1.0]"
   ]
  },
  {
   "cell_type": "code",
   "execution_count": 12,
   "metadata": {},
   "outputs": [],
   "source": [
    "output = scipy.integrate.odeint(systemODE, h0, t_array)"
   ]
  },
  {
   "cell_type": "code",
   "execution_count": 13,
   "metadata": {},
   "outputs": [
    {
     "data": {
      "text/plain": [
       "array([[1.        , 1.        , 1.        ],\n",
       "       [1.07209973, 1.00117097, 1.00117097],\n",
       "       [1.13893051, 1.00439311, 1.00439311],\n",
       "       [1.20118163, 1.00928224, 1.00928224],\n",
       "       [1.25942284, 1.01551479, 1.01551479],\n",
       "       [1.31412858, 1.02281858, 1.02281858],\n",
       "       [1.36569642, 1.03096515, 1.03096515],\n",
       "       [1.41446163, 1.03976316, 1.03976316],\n",
       "       [1.46070869, 1.04905266, 1.04905266],\n",
       "       [1.50468029, 1.05870031, 1.05870031],\n",
       "       [1.54658466, 1.06859521, 1.06859521],\n",
       "       [1.58660142, 1.07864534, 1.07864534],\n",
       "       [1.62488633, 1.08877459, 1.08877459],\n",
       "       [1.66157512, 1.09892021, 1.09892021],\n",
       "       [1.69678671, 1.10903069, 1.10903069],\n",
       "       [1.73062575, 1.11906389, 1.11906389],\n",
       "       [1.76318481, 1.12898561, 1.12898561],\n",
       "       [1.79454616, 1.13876825, 1.13876825],\n",
       "       [1.82478322, 1.14838975, 1.14838975],\n",
       "       [1.85396182, 1.1578327 , 1.1578327 ],\n",
       "       [1.88214124, 1.16708358, 1.16708358],\n",
       "       [1.90937508, 1.17613212, 1.17613212],\n",
       "       [1.935712  , 1.1849708 , 1.1849708 ],\n",
       "       [1.96119634, 1.19359433, 1.19359433],\n",
       "       [1.98586868, 1.20199935, 1.20199935],\n",
       "       [2.00976626, 1.21018406, 1.21018406],\n",
       "       [2.03292339, 1.21814799, 1.21814799],\n",
       "       [2.05537179, 1.22589173, 1.22589173],\n",
       "       [2.07714087, 1.23341681, 1.23341681],\n",
       "       [2.09825798, 1.24072545, 1.24072545],\n",
       "       [2.11874864, 1.24782049, 1.24782049],\n",
       "       [2.13863671, 1.25470526, 1.25470526],\n",
       "       [2.15794456, 1.26138347, 1.26138347],\n",
       "       [2.17669322, 1.26785916, 1.26785916],\n",
       "       [2.19490251, 1.27413659, 1.27413659],\n",
       "       [2.21259115, 1.28022019, 1.28022019],\n",
       "       [2.22977683, 1.28611454, 1.28611454],\n",
       "       [2.24647636, 1.2918243 , 1.2918243 ],\n",
       "       [2.26270566, 1.2973542 , 1.2973542 ],\n",
       "       [2.27847992, 1.30270898, 1.30270898],\n",
       "       [2.29381358, 1.30789338, 1.30789338],\n",
       "       [2.30872045, 1.31291214, 1.31291214],\n",
       "       [2.32321372, 1.31776994, 1.31776994],\n",
       "       [2.33730601, 1.32247141, 1.32247141],\n",
       "       [2.35100942, 1.32702115, 1.32702115],\n",
       "       [2.36433555, 1.33142364, 1.33142364],\n",
       "       [2.37729555, 1.33568333, 1.33568333],\n",
       "       [2.38990014, 1.33980454, 1.33980454],\n",
       "       [2.40215963, 1.34379153, 1.34379153],\n",
       "       [2.41408395, 1.34764845, 1.34764845],\n",
       "       [2.42568269, 1.35137936, 1.35137936],\n",
       "       [2.43696508, 1.35498821, 1.35498821],\n",
       "       [2.44794005, 1.35847888, 1.35847888],\n",
       "       [2.45861621, 1.36185511, 1.36185511],\n",
       "       [2.46900191, 1.36512056, 1.36512056],\n",
       "       [2.47910519, 1.3682788 , 1.3682788 ],\n",
       "       [2.48893386, 1.37133328, 1.37133328],\n",
       "       [2.49849548, 1.37428735, 1.37428735],\n",
       "       [2.50779736, 1.37714429, 1.37714429],\n",
       "       [2.5168466 , 1.37990725, 1.37990725],\n",
       "       [2.52565008, 1.38257931, 1.38257931],\n",
       "       [2.53421446, 1.38516345, 1.38516345],\n",
       "       [2.54254623, 1.38766255, 1.38766255],\n",
       "       [2.55065167, 1.39007942, 1.39007942],\n",
       "       [2.55853687, 1.39241676, 1.39241676],\n",
       "       [2.56620778, 1.3946772 , 1.3946772 ],\n",
       "       [2.57367013, 1.39686329, 1.39686329],\n",
       "       [2.58092953, 1.39897749, 1.39897749],\n",
       "       [2.58799142, 1.40102218, 1.40102218],\n",
       "       [2.59486108, 1.40299967, 1.40299967],\n",
       "       [2.60154365, 1.4049122 , 1.4049122 ],\n",
       "       [2.60804413, 1.40676193, 1.40676193],\n",
       "       [2.61436739, 1.40855095, 1.40855095],\n",
       "       [2.62051815, 1.41028128, 1.41028128],\n",
       "       [2.62650101, 1.41195487, 1.41195487],\n",
       "       [2.63232045, 1.41357363, 1.41357363],\n",
       "       [2.63798084, 1.41513937, 1.41513937],\n",
       "       [2.6434864 , 1.41665388, 1.41665388],\n",
       "       [2.64884128, 1.41811885, 1.41811885],\n",
       "       [2.65404949, 1.41953594, 1.41953594],\n",
       "       [2.65911493, 1.42090676, 1.42090676],\n",
       "       [2.66404143, 1.42223284, 1.42223284],\n",
       "       [2.66883268, 1.42351568, 1.42351568],\n",
       "       [2.67349231, 1.42475672, 1.42475672],\n",
       "       [2.67802382, 1.42595737, 1.42595737],\n",
       "       [2.68243065, 1.42711895, 1.42711895],\n",
       "       [2.68671611, 1.42824279, 1.42824279],\n",
       "       [2.69088348, 1.42933014, 1.42933014],\n",
       "       [2.6949359 , 1.43038221, 1.43038221],\n",
       "       [2.69887645, 1.43140018, 1.43140018],\n",
       "       [2.70270814, 1.43238518, 1.43238518],\n",
       "       [2.70643389, 1.43333832, 1.43333832],\n",
       "       [2.71005653, 1.43426066, 1.43426066],\n",
       "       [2.71357886, 1.43515321, 1.43515321],\n",
       "       [2.71700356, 1.43601697, 1.43601697],\n",
       "       [2.72033326, 1.4368529 , 1.4368529 ],\n",
       "       [2.72357052, 1.43766192, 1.43766192],\n",
       "       [2.72671785, 1.43844491, 1.43844491],\n",
       "       [2.72977765, 1.43920276, 1.43920276],\n",
       "       [2.73275231, 1.43993628, 1.43993628],\n",
       "       [2.73564413, 1.44064628, 1.44064628]])"
      ]
     },
     "execution_count": 13,
     "metadata": {},
     "output_type": "execute_result"
    }
   ],
   "source": [
    "output"
   ]
  },
  {
   "cell_type": "markdown",
   "metadata": {},
   "source": [
    "Let's plot the output:"
   ]
  },
  {
   "cell_type": "code",
   "execution_count": 15,
   "metadata": {},
   "outputs": [
    {
     "data": {
      "text/plain": [
       "Text(0, 0.5, 'Amount')"
      ]
     },
     "execution_count": 15,
     "metadata": {},
     "output_type": "execute_result"
    },
    {
     "data": {
      "image/png": "[encoded data removed]",
      "text/plain": [
       "<Figure size 432x288 with 1 Axes>"
      ]
     },
     "metadata": {
      "needs_background": "light"
     },
     "output_type": "display_data"
    }
   ],
   "source": [
    "plt.plot(t_array,output[:,0],label='X1')\n",
    "plt.plot(t_array,output[:,1],label='X2')\n",
    "plt.plot(t_array,output[:,2],label='X3')\n",
    "plt.legend()\n",
    "plt.xlabel('Time')\n",
    "plt.ylabel('Amount')"
   ]
  },
  {
   "cell_type": "code",
   "execution_count": null,
   "metadata": {},
   "outputs": [],
   "source": []
  }
 ],
 "metadata": {
  "kernelspec": {
   "display_name": "Python 3",
   "language": "python",
   "name": "python3"
  },
  "language_info": {
   "codemirror_mode": {
    "name": "ipython",
    "version": 3
   },
   "file_extension": ".py",
   "mimetype": "text/x-python",
   "name": "python",
   "nbconvert_exporter": "python",
   "pygments_lexer": "ipython3",
   "version": "3.8.5"
  }
 },
 "nbformat": 4,
 "nbformat_minor": 2
}
