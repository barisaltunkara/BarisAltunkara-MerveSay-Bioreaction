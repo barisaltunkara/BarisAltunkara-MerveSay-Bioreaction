{
 "cells": [
  {
   "cell_type": "code",
   "execution_count": 1,
   "metadata": {},
   "outputs": [],
   "source": [
    "import numpy as np\n",
    "import matplotlib.pyplot as plt\n",
    "import scipy.integrate"
   ]
  },
  {
   "cell_type": "code",
   "execution_count": 2,
   "metadata": {},
   "outputs": [],
   "source": [
    "def systemODE(h, t):\n",
    "    # Fixed Species\n",
    "    ADP = 0.2\n",
    "    ATP = 1.0\n",
    "    Fruex = 5.0\n",
    "    Glcex = 5.0\n",
    "    Sucvac = 0\n",
    "    UDP = 0.2\n",
    "    glycolysis = 0\n",
    "    phos = 5.1\n",
    "    \n",
    "    # Not Fixed Species\n",
    "    Fru = h[0]\n",
    "    Glc = h[1]\n",
    "    HexP = h[2]\n",
    "    Suc = h[3]\n",
    "    Suc6P = h[4]\n",
    "    \n",
    "    # Parameters Keq, Ki, Km\n",
    "    Keq6 = 10.0\n",
    "    Keq8 = 5.0\n",
    "    Ki1Fru = 1.0\n",
    "    Ki2Glc = 1.0\n",
    "    Ki3G6P = 0.1\n",
    "    Ki4F6P = 10.0\n",
    "    Ki5ADP = 2.0\n",
    "    Ki5Fru = 12.0\n",
    "    Ki6F6P = 0.4\n",
    "    Ki6Pi = 3.0\n",
    "    Ki6Suc6P = 0.07\n",
    "    Ki6UDPGlc = 1.4\n",
    "    Ki8Fru = 4.0\n",
    "    Ki8Suc = 40.0\n",
    "    Ki8UDP = 0.3\n",
    "    Ki9Fru = 15.0\n",
    "    Ki9Glc = 15.0\n",
    "    Km10F6P = 0.2\n",
    "    Km11Suc = 100.0\n",
    "    Km1Fruex = 0.2\n",
    "    Km2Glcex = 0.2\n",
    "    Km3ATP = 0.25\n",
    "    Km3Glc = 0.07\n",
    "    Km4ATP = 0.25\n",
    "    Km4Fru = 10.0\n",
    "    Km5ATP = 0.085\n",
    "    Km5Fru = 0.1\n",
    "    Km6F6P = 0.6\n",
    "    Km6Suc6P = 0.1\n",
    "    Km6UDP = 0.3\n",
    "    Km6UDPGlc = 1.8\n",
    "    Km7Suc6P = 0.1\n",
    "    Km8Fru = 4.0\n",
    "    Km8Suc = 50.0\n",
    "    Km8UDP = 0.3\n",
    "    Km8UDPGlc = 0.3\n",
    "    Km9Suc = 10.0\n",
    "    \n",
    "    # Parameters Vmax\n",
    "    Vmax1 = 0.286\n",
    "    Vmax2 = 0.286\n",
    "    Vmax3 = 0.197\n",
    "    Vmax4 = 0.197\n",
    "    Vmax5 = 0.164\n",
    "    Vmax6f = 0.379\n",
    "    Vmax6r = 0.2\n",
    "    Vmax7 = 0.5\n",
    "    Vmax8f = 0.677\n",
    "    Vmax8r = 0.3\n",
    "    Vmax9 = 0.372\n",
    "    Vmax10 = 0.1\n",
    "    Vmax11 = 1.0\n",
    "    \n",
    "    # Reactions\n",
    "    v1 = Vmax1*Fruex/(Km1Fruex*(1 + Fru/Ki1Fru) + Fruex)\n",
    "    v2 = Vmax2*Glcex/(Km2Glcex*(1 + Glc/Ki2Glc) + Glcex)\n",
    "    v3 = Vmax3 * Glc / Km3Glc * (ATP / Km3ATP) / ((1 + ATP / Km3ATP) * (1 + Glc / Km3Glc + Fru / Km4Fru + 0.113 * HexP / Ki3G6P + 0.0575 * HexP / Ki4F6P))\n",
    "    v4 = Vmax4 * Fru / Km4Fru * (ATP / Km4ATP) / ((1 + ATP / Km4ATP) * (1 + Glc / Km3Glc + Fru / Km4Fru + 0.113 * HexP / Ki3G6P + 0.0575 * HexP / Ki4F6P))\n",
    "    v5 = Vmax5/(1 + Fru/Ki5Fru)*(Fru/Km5Fru)*(ATP/Km5ATP)/(1 + Fru/Km5Fru + ATP/Km5ATP + Fru*ATP/(Km5Fru*Km5ATP) + ADP/Ki5ADP)\n",
    "    v6 = Vmax6f * (0.0575 * HexP * 0.8231 * HexP - Suc6P * UDP / Keq6) / (0.0575 * HexP * 0.8231 * HexP * (1 + Suc6P / Ki6Suc6P) + Km6F6P * (1 + phos / Ki6Pi) * (0.8231 * HexP + Ki6UDPGlc) + Km6UDPGlc * 0.0575 * HexP + Vmax6f / (Vmax6r * Keq6) * (Km6UDP * Suc6P * (1 + 0.8231 * HexP / Ki6UDPGlc) + UDP * (Km6Suc6P * (1 + Km6UDPGlc * 0.0575 * HexP / (Ki6UDPGlc * Km6F6P * (1 + phos / Ki6Pi))) + Suc6P * (1 + 0.0575 * HexP / Ki6F6P))))\n",
    "    v7 = Vmax7*Suc6P/(Km7Suc6P + Suc6P)\n",
    "    v8 = -Vmax8f*(Suc*UDP - Fru*0.8231*HexP/Keq8)/(Suc*UDP*(1+Fru/Ki8Fru) + Km8Suc*(UDP+Ki8UDP) + Km8UDP*Suc + Vmax8f/(Vmax8r*Keq8)*(Km8UDPGlc*Fru*(1+UDP/Ki8UDP) + 0.8231*HexP*(Km8Fru*(1+Km8UDP*Suc/(Ki8UDP*Km8Suc)) + Fru*(1+Suc/Ki8Suc))))\n",
    "    v9 = Vmax9/(1+Glc/Ki9Glc)*Suc/(Km9Suc*(1+Fru/Ki9Fru) + Suc)\n",
    "    v10 = Vmax10*0.0575*HexP/(Km10F6P + 0.0575*HexP)\n",
    "    v11 = Vmax11*Suc/(Km11Suc + Suc)\n",
    "    \n",
    "    # dx/dt\n",
    "    dFrudt = v1 - v4 - v5 - v8 + v9\n",
    "    dGlcdt = v2 + v9 - v3\n",
    "    dHexPdt = v3 - v10 + v4 + v5 - 2*v6 - v8 \n",
    "    dSucdt = v7 + v8 - v9 - v11\n",
    "    dSuc6P = v6 - v7\n",
    "    \n",
    "    dhdt = [dFrudt, dGlcdt, dHexPdt, dSucdt, dSuc6P]\n",
    "    return dhdt"
   ]
  },
  {
   "cell_type": "code",
   "execution_count": 3,
   "metadata": {},
   "outputs": [
    {
     "name": "stdout",
     "output_type": "stream",
     "text": [
      "[    0.    10.    20. ...  9980.  9990. 10000.]\n"
     ]
    }
   ],
   "source": [
    "t_array = np.linspace(0,10000,1001)\n",
    "print(t_array)"
   ]
  },
  {
   "cell_type": "code",
   "execution_count": 4,
   "metadata": {},
   "outputs": [],
   "source": [
    "h0 = [1.0,1.0,1.0,1.0,1.0]"
   ]
  },
  {
   "cell_type": "code",
   "execution_count": 5,
   "metadata": {},
   "outputs": [],
   "source": [
    "output = scipy.integrate.odeint(systemODE, h0, t_array)"
   ]
  },
  {
   "cell_type": "code",
   "execution_count": 6,
   "metadata": {},
   "outputs": [
    {
     "data": {
      "text/plain": [
       "array([[1.00000000e+00, 1.00000000e+00, 1.00000000e+00, 1.00000000e+00,\n",
       "        1.00000000e+00],\n",
       "       [2.67349585e+00, 2.60847924e+00, 2.92980817e+00, 1.61450155e+00,\n",
       "        4.58902074e-03],\n",
       "       [4.00490581e+00, 3.99034987e+00, 4.12289787e+00, 1.68408821e+00,\n",
       "        7.14800599e-03],\n",
       "       ...,\n",
       "       [4.05807253e+01, 3.01103829e+01, 2.98582124e+00, 1.04133519e+01,\n",
       "        4.77627494e-03],\n",
       "       [4.05807255e+01, 3.01103828e+01, 2.98582124e+00, 1.04133519e+01,\n",
       "        4.77627493e-03],\n",
       "       [4.05807256e+01, 3.01103828e+01, 2.98582124e+00, 1.04133519e+01,\n",
       "        4.77627492e-03]])"
      ]
     },
     "execution_count": 6,
     "metadata": {},
     "output_type": "execute_result"
    }
   ],
   "source": [
    "output"
   ]
  },
  {
   "cell_type": "code",
   "execution_count": 7,
   "metadata": {},
   "outputs": [
    {
     "data": {
      "text/plain": [
       "Text(0.5, 1.0, 'Case 3:  Steady-state metabolic fluxes ')"
      ]
     },
     "execution_count": 7,
     "metadata": {},
     "output_type": "execute_result"
    },
    {
     "data": {
      "image/png": "[encoded data removed]",
      "text/plain": [
       "<Figure size 432x288 with 1 Axes>"
      ]
     },
     "metadata": {
      "needs_background": "light"
     },
     "output_type": "display_data"
    }
   ],
   "source": [
    "plt.plot(t_array,output[:,0],label='Fru')\n",
    "plt.plot(t_array,output[:,1],label='Glc')\n",
    "plt.plot(t_array,output[:,2],label='HexP')\n",
    "plt.plot(t_array,output[:,3],label='Suc')\n",
    "plt.plot(t_array,output[:,4],label='Suc6P')\n",
    "plt.legend(bbox_to_anchor=(1.05, 1), loc='upper left', borderaxespad=0.)\n",
    "plt.xlabel('Time')\n",
    "plt.ylabel('Amount')\n",
    "plt.title(\"Case 3:  Steady-state metabolic fluxes \")"
   ]
  },
  {
   "cell_type": "code",
   "execution_count": 8,
   "metadata": {},
   "outputs": [],
   "source": [
    "# Steady-State initial values\n",
    "# Fru -> 40.580\n",
    "# Glc -> 30.110\n",
    "# HexP -> 2.985\n",
    "# Suc -> 10.413\n",
    "# Suc6P -> 0.0047"
   ]
  },
  {
   "cell_type": "code",
   "execution_count": null,
   "metadata": {},
   "outputs": [],
   "source": []
  }
 ],
 "metadata": {
  "kernelspec": {
   "display_name": "Python 3",
   "language": "python",
   "name": "python3"
  },
  "language_info": {
   "codemirror_mode": {
    "name": "ipython",
    "version": 3
   },
   "file_extension": ".py",
   "mimetype": "text/x-python",
   "name": "python",
   "nbconvert_exporter": "python",
   "pygments_lexer": "ipython3",
   "version": "3.7.6"
  }
 },
 "nbformat": 4,
 "nbformat_minor": 4
}
