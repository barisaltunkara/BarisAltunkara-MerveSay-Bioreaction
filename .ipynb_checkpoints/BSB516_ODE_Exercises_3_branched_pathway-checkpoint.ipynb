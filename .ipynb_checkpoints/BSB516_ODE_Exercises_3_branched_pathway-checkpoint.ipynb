{
 "cells": [
  {
   "cell_type": "code",
   "execution_count": 2,
   "metadata": {},
   "outputs": [],
   "source": [
    "import numpy as np\n",
    "import matplotlib.pyplot as plt\n",
    "import scipy.integrate"
   ]
  },
  {
   "cell_type": "markdown",
   "metadata": {},
   "source": [
    "## ODE System Example: Branched Pathway"
   ]
  },
  {
   "cell_type": "markdown",
   "metadata": {},
   "source": [
    "Let's simulate the ODE system from https://jjj.bio.vu.nl/models/branch5/simulate/"
   ]
  },
  {
   "cell_type": "code",
   "execution_count": 5,
   "metadata": {},
   "outputs": [],
   "source": [
    "def systemODE(h,t):\n",
    "    \n",
    "    S = 10.0 # Assumed fixed (constant)\n",
    "    P1 = 1.0 # Assumed fixed (constant)\n",
    "    P2 = 1.0 # Assumed fixed (constant)\n",
    "    X1 = h[0]\n",
    "    X2 = h[1]\n",
    "    X3 = h[2]\n",
    "    \n",
    "    K = 1.0\n",
    "    Keq = 1.0\n",
    "    V1 = 1.0\n",
    "    V2 = 1.0\n",
    "    V3 = 1.0\n",
    "    V4 = 1.0\n",
    "    V5 = 1.0\n",
    "    \n",
    "    v1 = S*V1*(1-X1/(Keq*S))/(K*(1+S/K+X1/K))\n",
    "    v2 = X1*V1*(1-X3/(Keq*X1))/(K*(1+X1/K+X3/K))\n",
    "    v3 = X1*V3*(1-X2/(Keq*X1))/(K*(1+X1/K+X2/K))\n",
    "    v4 = X1*V4*(1-P1/(Keq*X2))/(K*(1+P1/K+X2/K))\n",
    "    v5 = X1*V5*(1-P2/(Keq*X3))/(K*(1+P2/K+X3/K))\n",
    "    \n",
    "    dX1dt = v1-v2-v3\n",
    "    dX2dt = v3-v4\n",
    "    dX3dt = v2-v5\n",
    "    \n",
    "    # Finally, return the differentials as an array as well!\n",
    "    dhdt = [dX1dt,dX2dt,dX3dt]\n",
    "    return dhdt"
   ]
  },
  {
   "cell_type": "code",
   "execution_count": 4,
   "metadata": {},
   "outputs": [
    {
     "name": "stdout",
     "output_type": "stream",
     "text": [
      "[ 0.  1.  2.  3.  4.  5.  6.  7.  8.  9. 10.]\n"
     ]
    }
   ],
   "source": [
    "t_array = np.linspace(0,10,11)\n",
    "print(t_array)"
   ]
  },
  {
   "cell_type": "code",
   "execution_count": 6,
   "metadata": {},
   "outputs": [],
   "source": [
    "h0 = [1.0,1.0,1.0]"
   ]
  },
  {
   "cell_type": "code",
   "execution_count": 7,
   "metadata": {},
   "outputs": [],
   "source": [
    "output = scipy.integrate.odeint(systemODE, h0, t_array)"
   ]
  },
  {
   "cell_type": "code",
   "execution_count": 8,
   "metadata": {},
   "outputs": [
    {
     "data": {
      "text/plain": [
       "array([[1.        , 1.        , 1.        ],\n",
       "       [1.54658466, 1.06859521, 1.06859521],\n",
       "       [1.88214123, 1.16708358, 1.16708358],\n",
       "       [2.11874864, 1.24782049, 1.24782049],\n",
       "       [2.29381358, 1.30789338, 1.30789338],\n",
       "       [2.42568269, 1.35137936, 1.35137936],\n",
       "       [2.52565008, 1.38257931, 1.38257931],\n",
       "       [2.60154365, 1.4049122 , 1.4049122 ],\n",
       "       [2.65911493, 1.42090676, 1.42090676],\n",
       "       [2.70270814, 1.43238518, 1.43238518],\n",
       "       [2.73564413, 1.44064628, 1.44064628]])"
      ]
     },
     "execution_count": 8,
     "metadata": {},
     "output_type": "execute_result"
    }
   ],
   "source": [
    "output"
   ]
  },
  {
   "cell_type": "markdown",
   "metadata": {},
   "source": [
    "Let's plot the output:"
   ]
  },
  {
   "cell_type": "code",
   "execution_count": 9,
   "metadata": {},
   "outputs": [
    {
     "data": {
      "text/plain": [
       "Text(0, 0.5, 'Amount')"
      ]
     },
     "execution_count": 9,
     "metadata": {},
     "output_type": "execute_result"
    },
    {
     "data": {
      "image/png": "[encoded data removed]",
      "text/plain": [
       "<Figure size 432x288 with 1 Axes>"
      ]
     },
     "metadata": {
      "needs_background": "light"
     },
     "output_type": "display_data"
    }
   ],
   "source": [
    "plt.plot(t_array,output[:,0],label='X1')\n",
    "plt.plot(t_array,output[:,1],label='X2')\n",
    "plt.plot(t_array,output[:,2],label='X3')\n",
    "plt.legend()\n",
    "plt.xlabel('Time')\n",
    "plt.ylabel('Amount')"
   ]
  },
  {
   "cell_type": "code",
   "execution_count": null,
   "metadata": {},
   "outputs": [],
   "source": []
  }
 ],
 "metadata": {
  "kernelspec": {
   "display_name": "Python 3",
   "language": "python",
   "name": "python3"
  },
  "language_info": {
   "codemirror_mode": {
    "name": "ipython",
    "version": 3
   },
   "file_extension": ".py",
   "mimetype": "text/x-python",
   "name": "python",
   "nbconvert_exporter": "python",
   "pygments_lexer": "ipython3",
   "version": "3.7.6"
  }
 },
 "nbformat": 4,
 "nbformat_minor": 2
}
