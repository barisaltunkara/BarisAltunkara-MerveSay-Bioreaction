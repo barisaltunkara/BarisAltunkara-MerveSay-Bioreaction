{
 "cells": [
  {
   "cell_type": "code",
   "execution_count": 1,
   "metadata": {},
   "outputs": [],
   "source": [
    "import numpy as np\n",
    "import matplotlib.pyplot as plt\n",
    "import scipy.integrate"
   ]
  },
  {
   "cell_type": "code",
   "execution_count": 2,
   "metadata": {},
   "outputs": [],
   "source": [
    "def systemODE(h, t):\n",
    "    # Fixed Species\n",
    "    ADP = 0.2\n",
    "    ATP = 1.0\n",
    "    Fruex = 5.0\n",
    "    Glcex = 5.0\n",
    "    Sucvac = 0\n",
    "    UDP = 0.2\n",
    "    glycolysis = 0\n",
    "    phos = 5.1\n",
    "    \n",
    "    # Not Fixed Species\n",
    "    Fru = h[0]\n",
    "    Glc = h[1]\n",
    "    HexP = h[2]\n",
    "    Suc = h[3]\n",
    "    Suc6P = h[4]\n",
    "    \n",
    "    # Parameters Keq, Ki, Km\n",
    "    Keq6 = 10.0\n",
    "    Keq8 = 5.0\n",
    "    Ki1Fru = 1.0\n",
    "    Ki2Glc = 1.0\n",
    "    Ki3G6P = 0.1\n",
    "    Ki4F6P = 10.0\n",
    "    Ki5ADP = 2.0\n",
    "    Ki5Fru = 12.0\n",
    "    Ki6F6P = 0.4\n",
    "    Ki6Pi = 3.0\n",
    "    Ki6Suc6P = 0.07\n",
    "    Ki6UDPGlc = 1.4\n",
    "    Ki8Fru = 4.0\n",
    "    Ki8Suc = 40.0\n",
    "    Ki8UDP = 0.3\n",
    "    Ki9Fru = 15.0\n",
    "    Ki9Glc = 15.0\n",
    "    Km10F6P = 0.2\n",
    "    Km11Suc = 100.0\n",
    "    Km1Fruex = 0.2\n",
    "    Km2Glcex = 0.2\n",
    "    Km3ATP = 0.25\n",
    "    Km3Glc = 0.07\n",
    "    Km4ATP = 0.25\n",
    "    Km4Fru = 10.0\n",
    "    Km5ATP = 0.085\n",
    "    Km5Fru = 0.1\n",
    "    Km6F6P = 0.6\n",
    "    Km6Suc6P = 0.1\n",
    "    Km6UDP = 0.3\n",
    "    Km6UDPGlc = 1.8\n",
    "    Km7Suc6P = 0.1\n",
    "    Km8Fru = 4.0\n",
    "    Km8Suc = 50.0\n",
    "    Km8UDP = 0.3\n",
    "    Km8UDPGlc = 0.3\n",
    "    Km9Suc = 10.0\n",
    "    \n",
    "    # Parameters Vmax\n",
    "    Vmax1 = 0.286\n",
    "    Vmax2 = 0.286\n",
    "    Vmax3 = 0.197\n",
    "    Vmax4 = 0.197\n",
    "    Vmax5 = 0.164\n",
    "    Vmax6f = 0.379\n",
    "    Vmax6r = 0.2\n",
    "    Vmax7 = 0.5\n",
    "    Vmax8f = 0.677\n",
    "    Vmax8r = 0.3\n",
    "    Vmax9 = 0.372\n",
    "    Vmax10 = 0.1\n",
    "    Vmax11 = 1.0\n",
    "    \n",
    "    # Reactions\n",
    "    v1 = Vmax1*Fruex/(Km1Fruex*(1 + Fru/Ki1Fru) + Fruex)\n",
    "    v2 = Vmax2*Glcex/(Km2Glcex*(1 + Glc/Ki2Glc) + Glcex)\n",
    "    v3 = Vmax3 * Glc / Km3Glc * (ATP / Km3ATP) / ((1 + ATP / Km3ATP) * (1 + Glc / Km3Glc + Fru / Km4Fru + 0.113 * HexP / Ki3G6P + 0.0575 * HexP / Ki4F6P))\n",
    "    v4 = Vmax4 * Fru / Km4Fru * (ATP / Km4ATP) / ((1 + ATP / Km4ATP) * (1 + Glc / Km3Glc + Fru / Km4Fru + 0.113 * HexP / Ki3G6P + 0.0575 * HexP / Ki4F6P))\n",
    "    v5 = Vmax5/(1 + Fru/Ki5Fru)*(Fru/Km5Fru)*(ATP/Km5ATP)/(1 + Fru/Km5Fru + ATP/Km5ATP + Fru*ATP/(Km5Fru*Km5ATP) + ADP/Ki5ADP)\n",
    "    v6 = Vmax6f * (0.0575 * HexP * 0.8231 * HexP - Suc6P * UDP / Keq6) / (0.0575 * HexP * 0.8231 * HexP * (1 + Suc6P / Ki6Suc6P) + Km6F6P * (1 + phos / Ki6Pi) * (0.8231 * HexP + Ki6UDPGlc) + Km6UDPGlc * 0.0575 * HexP + Vmax6f / (Vmax6r * Keq6) * (Km6UDP * Suc6P * (1 + 0.8231 * HexP / Ki6UDPGlc) + UDP * (Km6Suc6P * (1 + Km6UDPGlc * 0.0575 * HexP / (Ki6UDPGlc * Km6F6P * (1 + phos / Ki6Pi))) + Suc6P * (1 + 0.0575 * HexP / Ki6F6P))))\n",
    "    v7 = Vmax7*Suc6P/(Km7Suc6P + Suc6P)\n",
    "    v8 = -Vmax8f*(Suc*UDP - Fru*0.8231*HexP/Keq8)/(Suc*UDP*(1+Fru/Ki8Fru) + Km8Suc*(UDP+Ki8UDP) + Km8UDP*Suc + Vmax8f/(Vmax8r*Keq8)*(Km8UDPGlc*Fru*(1+UDP/Ki8UDP) + 0.8231*HexP*(Km8Fru*(1+Km8UDP*Suc/(Ki8UDP*Km8Suc)) + Fru*(1+Suc/Ki8Suc))))\n",
    "    v9 = Vmax9/(1+Glc/Ki9Glc)*Suc/(Km9Suc*(1+Fru/Ki9Fru) + Suc)\n",
    "    v10 = Vmax10*0.0575*HexP/(Km10F6P + 0.0575*HexP)\n",
    "    v11 = Vmax11*Suc/(Km11Suc + Suc)\n",
    "    \n",
    "    # dx/dt\n",
    "    dFrudt = v1 - v4 - v5 - v8 + v9\n",
    "    dGlcdt = v2 + v9 - v3\n",
    "    dHexPdt = v3 - v10 + v4 + v5 - 2*v6 - v8 \n",
    "    dSucdt = v7 + v8 - v9 - v11\n",
    "    dSuc6P = v6 - v7\n",
    "    \n",
    "    dhdt = [dFrudt, dGlcdt, dHexPdt, dSucdt, dSuc6P]\n",
    "    return dhdt"
   ]
  },
  {
   "cell_type": "code",
   "execution_count": 3,
   "metadata": {},
   "outputs": [
    {
     "name": "stdout",
     "output_type": "stream",
     "text": [
      "[ 0.   0.1  0.2  0.3  0.4  0.5  0.6  0.7  0.8  0.9  1.   1.1  1.2  1.3\n",
      "  1.4  1.5  1.6  1.7  1.8  1.9  2.   2.1  2.2  2.3  2.4  2.5  2.6  2.7\n",
      "  2.8  2.9  3.   3.1  3.2  3.3  3.4  3.5  3.6  3.7  3.8  3.9  4.   4.1\n",
      "  4.2  4.3  4.4  4.5  4.6  4.7  4.8  4.9  5.   5.1  5.2  5.3  5.4  5.5\n",
      "  5.6  5.7  5.8  5.9  6.   6.1  6.2  6.3  6.4  6.5  6.6  6.7  6.8  6.9\n",
      "  7.   7.1  7.2  7.3  7.4  7.5  7.6  7.7  7.8  7.9  8.   8.1  8.2  8.3\n",
      "  8.4  8.5  8.6  8.7  8.8  8.9  9.   9.1  9.2  9.3  9.4  9.5  9.6  9.7\n",
      "  9.8  9.9 10. ]\n"
     ]
    }
   ],
   "source": [
    "t_array = np.linspace(0,10,101)\n",
    "print(t_array)"
   ]
  },
  {
   "cell_type": "code",
   "execution_count": 4,
   "metadata": {},
   "outputs": [],
   "source": [
    "h0 = [1.5,1.0,1.5,1.0,1.0] # Initial values of Fru and HexP are changed."
   ]
  },
  {
   "cell_type": "code",
   "execution_count": 5,
   "metadata": {},
   "outputs": [],
   "source": [
    "output = scipy.integrate.odeint(systemODE, h0, t_array)"
   ]
  },
  {
   "cell_type": "code",
   "execution_count": 6,
   "metadata": {},
   "outputs": [
    {
     "data": {
      "text/plain": [
       "array([[1.5       , 1.        , 1.5       , 1.        , 1.        ],\n",
       "       [1.51582973, 1.0162887 , 1.5213625 , 1.04178722, 0.9551807 ],\n",
       "       [1.53175472, 1.03265014, 1.54265402, 1.08322966, 0.91058657],\n",
       "       [1.54777256, 1.04908244, 1.56387309, 1.12431321, 0.8662351 ],\n",
       "       [1.56388083, 1.06558371, 1.58501822, 1.16502166, 0.82214591],\n",
       "       [1.5800771 , 1.08215204, 1.60608782, 1.20533632, 0.77834117],\n",
       "       [1.59635892, 1.09878551, 1.62708023, 1.24523559, 0.73484603],\n",
       "       [1.61272382, 1.1154822 , 1.64799374, 1.28469451, 0.69168907],\n",
       "       [1.62916929, 1.13224011, 1.66882657, 1.32368411, 0.648903  ],\n",
       "       [1.64569277, 1.14905724, 1.68957685, 1.36217064, 0.60652541],\n",
       "       [1.66229164, 1.16593151, 1.71024266, 1.40011463, 0.56459973],\n",
       "       [1.67896321, 1.1828608 , 1.73082202, 1.43746972, 0.5231764 ],\n",
       "       [1.69570468, 1.19984288, 1.75131289, 1.47418129, 0.48231433],\n",
       "       [1.71251314, 1.21687545, 1.77171316, 1.51018463, 0.4420827 ],\n",
       "       [1.72938554, 1.23395606, 1.79202072, 1.54540271, 0.40256322],\n",
       "       [1.74631862, 1.25108213, 1.81223343, 1.57974346, 0.3638529 ],\n",
       "       [1.76330894, 1.26825086, 1.83234914, 1.61309638, 0.32606748],\n",
       "       [1.78035275, 1.28545927, 1.85236577, 1.64532848, 0.28934554],\n",
       "       [1.79744596, 1.30270406, 1.87228133, 1.67627948, 0.25385335],\n",
       "       [1.8145841 , 1.31998161, 1.89209397, 1.7057566 , 0.21979015],\n",
       "       [1.83176216, 1.33728788, 1.91180211, 1.73352956, 0.18739321],\n",
       "       [1.84897458, 1.35461834, 1.93140448, 1.75932732, 0.1569412 ],\n",
       "       [1.86621506, 1.37196789, 1.95090028, 1.78283965, 0.12875264],\n",
       "       [1.88347654, 1.3893308 , 1.97028934, 1.80372887, 0.10317424],\n",
       "       [1.90075115, 1.40670065, 1.98957217, 1.82165854, 0.08055216],\n",
       "       [1.91803029, 1.42407044, 2.00875013, 1.83634571, 0.06117964],\n",
       "       [1.93530485, 1.44143279, 2.02782535, 1.84763388, 0.04522375],\n",
       "       [1.95256568, 1.45878025, 2.04680064, 1.85556532, 0.03265255],\n",
       "       [1.96980412, 1.47610582, 2.06567914, 1.86041359, 0.02320203],\n",
       "       [1.98701259, 1.49340343, 2.08446402, 1.86264574, 0.01641331],\n",
       "       [2.00418495, 1.51066817, 2.10315812, 1.86282503, 0.01172965],\n",
       "       [2.02131662, 1.52789645, 2.12176379, 1.86150336, 0.00860397],\n",
       "       [2.03840436, 1.54508581, 2.14028287, 1.85914855, 0.00657175],\n",
       "       [2.05544606, 1.56223471, 2.15871669, 1.85611845, 0.00527729],\n",
       "       [2.07244042, 1.57934229, 2.17706625, 1.8526679 , 0.00446702],\n",
       "       [2.0893867 , 1.59640812, 2.19533225, 1.84896985, 0.0039687 ],\n",
       "       [2.10628455, 1.61343213, 2.21351523, 1.84513804, 0.00366893],\n",
       "       [2.12313383, 1.63041441, 2.2316156 , 1.84124567, 0.00349454],\n",
       "       [2.13993458, 1.64735516, 2.24963368, 1.83733926, 0.00339895],\n",
       "       [2.15668693, 1.6642547 , 2.26756976, 1.83344803, 0.00335272],\n",
       "       [2.17339109, 1.68111335, 2.28542408, 1.82959026, 0.00333734],\n",
       "       [2.19004726, 1.69793148, 2.30319689, 1.82577725, 0.00334121],\n",
       "       [2.20665571, 1.71470947, 2.32088842, 1.82201594, 0.00335707],\n",
       "       [2.2232167 , 1.7314477 , 2.33849887, 1.81831055, 0.00338039],\n",
       "       [2.2397305 , 1.74814655, 2.35602849, 1.81466357, 0.00340831],\n",
       "       [2.2561974 , 1.7648064 , 2.37347749, 1.81107643, 0.00343907],\n",
       "       [2.27261765, 1.78142763, 2.3908461 , 1.80754989, 0.00347156],\n",
       "       [2.28899155, 1.79801061, 2.40813454, 1.8040843 , 0.00350509],\n",
       "       [2.30531938, 1.81455572, 2.42534307, 1.80067974, 0.00353923],\n",
       "       [2.3216014 , 1.8310633 , 2.4424719 , 1.79733612, 0.0035737 ],\n",
       "       [2.3378379 , 1.84753373, 2.45952129, 1.79405326, 0.00360833],\n",
       "       [2.35402914, 1.86396734, 2.47649147, 1.79083092, 0.00364302],\n",
       "       [2.3701754 , 1.8803645 , 2.4933827 , 1.78766883, 0.0036777 ],\n",
       "       [2.38627696, 1.89672554, 2.51019523, 1.78456665, 0.00371233],\n",
       "       [2.40233407, 1.91305079, 2.52692931, 1.78152409, 0.00374688],\n",
       "       [2.41834702, 1.92934059, 2.5435852 , 1.77854079, 0.00378133],\n",
       "       [2.43431605, 1.94559526, 2.56016316, 1.77561643, 0.00381568],\n",
       "       [2.45024145, 1.96181513, 2.57666345, 1.77275067, 0.00384991],\n",
       "       [2.46612346, 1.97800051, 2.59308634, 1.76994315, 0.00388403],\n",
       "       [2.48196235, 1.99415171, 2.6094321 , 1.76719354, 0.00391802],\n",
       "       [2.49775839, 2.01026904, 2.62570099, 1.76450149, 0.00395189],\n",
       "       [2.51351182, 2.02635281, 2.64189329, 1.76186667, 0.00398564],\n",
       "       [2.5292229 , 2.04240331, 2.65800927, 1.75928872, 0.00401925],\n",
       "       [2.54489189, 2.05842084, 2.67404921, 1.75676731, 0.00405274],\n",
       "       [2.56051904, 2.07440568, 2.69001339, 1.75430209, 0.00408611],\n",
       "       [2.5761046 , 2.09035813, 2.70590208, 1.75189273, 0.00411934],\n",
       "       [2.59164883, 2.10627848, 2.72171556, 1.74953888, 0.00415245],\n",
       "       [2.60715196, 2.12216698, 2.73745412, 1.74724021, 0.00418543],\n",
       "       [2.62261425, 2.13802393, 2.75311804, 1.74499637, 0.00421827],\n",
       "       [2.63803594, 2.1538496 , 2.7687076 , 1.74280704, 0.00425099],\n",
       "       [2.65341727, 2.16964425, 2.78422309, 1.74067187, 0.00428358],\n",
       "       [2.6687585 , 2.18540815, 2.7996648 , 1.73859053, 0.00431604],\n",
       "       [2.68405985, 2.20114155, 2.815033  , 1.73656269, 0.00434836],\n",
       "       [2.69932157, 2.21684473, 2.83032799, 1.73458802, 0.00438056],\n",
       "       [2.71454389, 2.23251793, 2.84555006, 1.73266617, 0.00441263],\n",
       "       [2.72972706, 2.2481614 , 2.86069949, 1.73079684, 0.00444456],\n",
       "       [2.7448713 , 2.26377539, 2.87577657, 1.72897967, 0.00447636],\n",
       "       [2.75997686, 2.27936014, 2.8907816 , 1.72721436, 0.00450804],\n",
       "       [2.77504395, 2.29491591, 2.90571487, 1.72550057, 0.00453958],\n",
       "       [2.79007282, 2.31044292, 2.92057665, 1.72383797, 0.00457099],\n",
       "       [2.8050637 , 2.32594141, 2.93536725, 1.72222624, 0.00460227],\n",
       "       [2.8200168 , 2.34141163, 2.95008695, 1.72066506, 0.00463342],\n",
       "       [2.83493236, 2.35685379, 2.96473606, 1.71915412, 0.00466443],\n",
       "       [2.84981061, 2.37226812, 2.97931484, 1.71769309, 0.00469531],\n",
       "       [2.86465176, 2.38765486, 2.99382361, 1.71628164, 0.00472606],\n",
       "       [2.87945604, 2.40301422, 3.00826264, 1.71491946, 0.00475669],\n",
       "       [2.89422367, 2.41834643, 3.02263223, 1.71360624, 0.00478717],\n",
       "       [2.90895488, 2.43365169, 3.03693267, 1.71234166, 0.00481753],\n",
       "       [2.92364987, 2.44893023, 3.05116425, 1.7111254 , 0.00484776],\n",
       "       [2.93830887, 2.46418226, 3.06532725, 1.70995716, 0.00487786],\n",
       "       [2.9529321 , 2.47940798, 3.07942198, 1.70883663, 0.00490782],\n",
       "       [2.96751976, 2.49460761, 3.09344872, 1.70776349, 0.00493766],\n",
       "       [2.98207207, 2.50978135, 3.10740776, 1.70673743, 0.00496736],\n",
       "       [2.99658925, 2.52492939, 3.12129938, 1.70575816, 0.00499693],\n",
       "       [3.0110715 , 2.54005195, 3.13512388, 1.70482536, 0.00502638],\n",
       "       [3.02551903, 2.55514923, 3.14888155, 1.70393873, 0.00505569],\n",
       "       [3.03993206, 2.5702214 , 3.16257267, 1.70309797, 0.00508488],\n",
       "       [3.05431079, 2.58526868, 3.17619752, 1.70230277, 0.00511393],\n",
       "       [3.06865542, 2.60029124, 3.18975641, 1.70155285, 0.00514285],\n",
       "       [3.08296616, 2.61528929, 3.2032496 , 1.70084789, 0.00517165],\n",
       "       [3.09724321, 2.630263  , 3.21667739, 1.7001876 , 0.00520032]])"
      ]
     },
     "execution_count": 6,
     "metadata": {},
     "output_type": "execute_result"
    }
   ],
   "source": [
    "output"
   ]
  },
  {
   "cell_type": "code",
   "execution_count": 7,
   "metadata": {},
   "outputs": [
    {
     "data": {
      "text/plain": [
       "Text(0, 0.5, 'Amount')"
      ]
     },
     "execution_count": 7,
     "metadata": {},
     "output_type": "execute_result"
    },
    {
     "data": {
      "image/png": "[encoded data removed]",
      "text/plain": [
       "<Figure size 432x288 with 1 Axes>"
      ]
     },
     "metadata": {
      "needs_background": "light"
     },
     "output_type": "display_data"
    }
   ],
   "source": [
    "plt.plot(t_array,output[:,0],label='Fru')\n",
    "plt.plot(t_array,output[:,1],label='Glc')\n",
    "plt.plot(t_array,output[:,2],label='HexP')\n",
    "plt.plot(t_array,output[:,3],label='Suc')\n",
    "plt.plot(t_array,output[:,4],label='Suc6P')\n",
    "plt.legend()\n",
    "plt.xlabel('Time')\n",
    "plt.ylabel('Amount')"
   ]
  },
  {
   "cell_type": "code",
   "execution_count": null,
   "metadata": {},
   "outputs": [],
   "source": []
  }
 ],
 "metadata": {
  "kernelspec": {
   "display_name": "Python 3",
   "language": "python",
   "name": "python3"
  },
  "language_info": {
   "codemirror_mode": {
    "name": "ipython",
    "version": 3
   },
   "file_extension": ".py",
   "mimetype": "text/x-python",
   "name": "python",
   "nbconvert_exporter": "python",
   "pygments_lexer": "ipython3",
   "version": "3.8.5"
  }
 },
 "nbformat": 4,
 "nbformat_minor": 4
}
