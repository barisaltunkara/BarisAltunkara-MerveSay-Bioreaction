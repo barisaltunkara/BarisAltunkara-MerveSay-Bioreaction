{
 "cells": [
  {
   "cell_type": "code",
   "execution_count": 1,
   "metadata": {},
   "outputs": [],
   "source": [
    "import numpy as np\n",
    "import matplotlib.pyplot as plt\n",
    "import scipy.integrate"
   ]
  },
  {
   "cell_type": "code",
   "execution_count": 2,
   "metadata": {},
   "outputs": [],
   "source": [
    "def systemODE(h, t):\n",
    "    # Fixed Species\n",
    "    ADP = 0.2\n",
    "    ATP = 1.0\n",
    "    Fruex = 5.0\n",
    "    Glcex = 5.0\n",
    "    Sucvac = 0\n",
    "    UDP = 0.2\n",
    "    glycolysis = 0\n",
    "    phos = 5.1\n",
    "    \n",
    "    # Not Fixed Species\n",
    "    Fru = h[0]\n",
    "    Glc = h[1]\n",
    "    HexP = h[2]\n",
    "    Suc = h[3]\n",
    "    Suc6P = h[4]\n",
    "    \n",
    "    # Parameters Keq, Ki, Km\n",
    "    Keq6 = 10.0\n",
    "    Keq8 = 5.0\n",
    "    Ki1Fru = 1.0\n",
    "    Ki2Glc = 1.0\n",
    "    Ki3G6P = 0.1\n",
    "    Ki4F6P = 10.0\n",
    "    Ki5ADP = 2.0\n",
    "    Ki5Fru = 12.0\n",
    "    Ki6F6P = 0.4\n",
    "    Ki6Pi = 3.0\n",
    "    Ki6Suc6P = 0.07\n",
    "    Ki6UDPGlc = 1.4\n",
    "    Ki8Fru = 4.0\n",
    "    Ki8Suc = 40.0\n",
    "    Ki8UDP = 0.3\n",
    "    Ki9Fru = 15.0\n",
    "    Ki9Glc = 15.0\n",
    "    Km10F6P = 0.2\n",
    "    Km11Suc = 100.0\n",
    "    Km1Fruex = 0.2\n",
    "    Km2Glcex = 0.2\n",
    "    Km3ATP = 0.25\n",
    "    Km3Glc = 0.07\n",
    "    Km4ATP = 0.25\n",
    "    Km4Fru = 10.0\n",
    "    Km5ATP = 0.085\n",
    "    Km5Fru = 0.1\n",
    "    Km6F6P = 0.6\n",
    "    Km6Suc6P = 0.1\n",
    "    Km6UDP = 0.3\n",
    "    Km6UDPGlc = 1.8\n",
    "    Km7Suc6P = 0.1\n",
    "    Km8Fru = 4.0\n",
    "    Km8Suc = 50.0\n",
    "    Km8UDP = 0.3\n",
    "    Km8UDPGlc = 0.3\n",
    "    Km9Suc = 10.0\n",
    "    \n",
    "    # Parameters Vmax\n",
    "    Vmax1 = 0.286\n",
    "    Vmax2 = 0.286\n",
    "    Vmax3 = 0.197\n",
    "    Vmax4 = 0.197\n",
    "    Vmax5 = 0.164\n",
    "    Vmax6f = 0.379\n",
    "    Vmax6r = 0.2\n",
    "    Vmax7 = 0.5\n",
    "    Vmax8f = 0.677\n",
    "    Vmax8r = 0.3\n",
    "    Vmax9 = 0.372\n",
    "    Vmax10 = 0.1\n",
    "    Vmax11 = 1.0\n",
    "    \n",
    "    # Reactions\n",
    "    v1 = Vmax1*Fruex/(Km1Fruex*(1 + Fru/Ki1Fru) + Fruex)\n",
    "    v2 = Vmax2*Glcex/(Km2Glcex*(1 + Glc/Ki2Glc) + Glcex)\n",
    "    v3 = Vmax3 * Glc / Km3Glc * (ATP / Km3ATP) / ((1 + ATP / Km3ATP) * (1 + Glc / Km3Glc + Fru / Km4Fru + 0.113 * HexP / Ki3G6P + 0.0575 * HexP / Ki4F6P))\n",
    "    v4 = Vmax4 * Fru / Km4Fru * (ATP / Km4ATP) / ((1 + ATP / Km4ATP) * (1 + Glc / Km3Glc + Fru / Km4Fru + 0.113 * HexP / Ki3G6P + 0.0575 * HexP / Ki4F6P))\n",
    "    v5 = Vmax5/(1 + Fru/Ki5Fru)*(Fru/Km5Fru)*(ATP/Km5ATP)/(1 + Fru/Km5Fru + ATP/Km5ATP + Fru*ATP/(Km5Fru*Km5ATP) + ADP/Ki5ADP)\n",
    "    v6 = Vmax6f * (0.0575 * HexP * 0.8231 * HexP - Suc6P * UDP / Keq6) / (0.0575 * HexP * 0.8231 * HexP * (1 + Suc6P / Ki6Suc6P) + Km6F6P * (1 + phos / Ki6Pi) * (0.8231 * HexP + Ki6UDPGlc) + Km6UDPGlc * 0.0575 * HexP + Vmax6f / (Vmax6r * Keq6) * (Km6UDP * Suc6P * (1 + 0.8231 * HexP / Ki6UDPGlc) + UDP * (Km6Suc6P * (1 + Km6UDPGlc * 0.0575 * HexP / (Ki6UDPGlc * Km6F6P * (1 + phos / Ki6Pi))) + Suc6P * (1 + 0.0575 * HexP / Ki6F6P))))\n",
    "    v7 = Vmax7*Suc6P/(Km7Suc6P + Suc6P)\n",
    "    v8 = -Vmax8f*(Suc*UDP - Fru*0.8231*HexP/Keq8)/(Suc*UDP*(1+Fru/Ki8Fru) + Km8Suc*(UDP+Ki8UDP) + Km8UDP*Suc + Vmax8f/(Vmax8r*Keq8)*(Km8UDPGlc*Fru*(1+UDP/Ki8UDP) + 0.8231*HexP*(Km8Fru*(1+Km8UDP*Suc/(Ki8UDP*Km8Suc)) + Fru*(1+Suc/Ki8Suc))))\n",
    "    v9 = Vmax9/(1+Glc/Ki9Glc)*Suc/(Km9Suc*(1+Fru/Ki9Fru) + Suc)\n",
    "    v10 = Vmax10*0.0575*HexP/(Km10F6P + 0.0575*HexP)\n",
    "    v11 = Vmax11*Suc/(Km11Suc + Suc)\n",
    "    \n",
    "    # dx/dt\n",
    "    dFrudt = -v4 - v5 - v8 + v9 + v1\n",
    "    dGlcdt = v2 + v9 - v3\n",
    "    dHexPdt = v3 - v10 + v4 + v5 - v6 - v8 \n",
    "    dSucdt = v7 + v8 - v9 - v11\n",
    "    dSuc6P = v6 - v7\n",
    "    \n",
    "    dhdt = [dFrudt, dGlcdt, dHexPdt, dSucdt, dSuc6P]\n",
    "    return dhdt"
   ]
  },
  {
   "cell_type": "code",
   "execution_count": 3,
   "metadata": {},
   "outputs": [
    {
     "name": "stdout",
     "output_type": "stream",
     "text": [
      "[ 0.   0.1  0.2  0.3  0.4  0.5  0.6  0.7  0.8  0.9  1.   1.1  1.2  1.3\n",
      "  1.4  1.5  1.6  1.7  1.8  1.9  2.   2.1  2.2  2.3  2.4  2.5  2.6  2.7\n",
      "  2.8  2.9  3.   3.1  3.2  3.3  3.4  3.5  3.6  3.7  3.8  3.9  4.   4.1\n",
      "  4.2  4.3  4.4  4.5  4.6  4.7  4.8  4.9  5.   5.1  5.2  5.3  5.4  5.5\n",
      "  5.6  5.7  5.8  5.9  6.   6.1  6.2  6.3  6.4  6.5  6.6  6.7  6.8  6.9\n",
      "  7.   7.1  7.2  7.3  7.4  7.5  7.6  7.7  7.8  7.9  8.   8.1  8.2  8.3\n",
      "  8.4  8.5  8.6  8.7  8.8  8.9  9.   9.1  9.2  9.3  9.4  9.5  9.6  9.7\n",
      "  9.8  9.9 10. ]\n"
     ]
    }
   ],
   "source": [
    "t_array = np.linspace(0,10,101)\n",
    "print(t_array)"
   ]
  },
  {
   "cell_type": "code",
   "execution_count": 8,
   "metadata": {},
   "outputs": [],
   "source": [
    "h0 = [1.5,1.0,1.5,1.0,1.0]"
   ]
  },
  {
   "cell_type": "code",
   "execution_count": 9,
   "metadata": {},
   "outputs": [],
   "source": [
    "output = scipy.integrate.odeint(systemODE, h0, t_array)"
   ]
  },
  {
   "cell_type": "code",
   "execution_count": 10,
   "metadata": {},
   "outputs": [
    {
     "data": {
      "text/plain": [
       "array([[1.5       , 1.        , 1.5       , 1.        , 1.        ],\n",
       "       [1.51582959, 1.01628893, 1.52190156, 1.04178737, 0.95518085],\n",
       "       [1.53175414, 1.03265107, 1.54375454, 1.08323026, 0.91058718],\n",
       "       [1.54777122, 1.04908454, 1.5655579 , 1.12431458, 0.8662365 ],\n",
       "       [1.56387839, 1.06558744, 1.58731058, 1.16502416, 0.82214843],\n",
       "       [1.58007322, 1.0821579 , 1.6090115 , 1.20534029, 0.77834518],\n",
       "       [1.59635324, 1.09879399, 1.63065951, 1.24524143, 0.7348519 ],\n",
       "       [1.61271595, 1.11549379, 1.65225344, 1.28470263, 0.69169721],\n",
       "       [1.62915882, 1.13225531, 1.67379209, 1.32369493, 0.64891384],\n",
       "       [1.64567929, 1.14907656, 1.69527421, 1.36218463, 0.60653939],\n",
       "       [1.66227471, 1.16595548, 1.71669852, 1.40013227, 0.56461731],\n",
       "       [1.67894236, 1.18288993, 1.73806367, 1.43749156, 0.52319807],\n",
       "       [1.69567944, 1.1998777 , 1.7593683 , 1.47420791, 0.4823406 ],\n",
       "       [1.71248301, 1.2169165 , 1.78061102, 1.51021665, 0.44211408],\n",
       "       [1.72934999, 1.23400389, 1.80179038, 1.54544083, 0.40260023],\n",
       "       [1.74627712, 1.25113729, 1.82290492, 1.57978845, 0.36389606],\n",
       "       [1.7632609 , 1.26831393, 1.84395317, 1.61314913, 0.32611728],\n",
       "       [1.78029759, 1.2855308 , 1.86493363, 1.64539002, 0.28940242],\n",
       "       [1.79738308, 1.30278465, 1.88584485, 1.67635101, 0.25391765],\n",
       "       [1.81451286, 1.32007185, 1.90668539, 1.70583956, 0.21986206],\n",
       "       [1.83168191, 1.33738838, 1.92745391, 1.73362572, 0.18747271],\n",
       "       [1.84888463, 1.35472971, 1.94814919, 1.75943886, 0.15702791],\n",
       "       [1.86611472, 1.37209076, 1.96877017, 1.78296931, 0.12884575],\n",
       "       [1.88336509, 1.38946581, 1.98931605, 1.80388   , 0.10327239],\n",
       "       [1.90062787, 1.40684845, 2.00978632, 1.82183518, 0.08065337],\n",
       "       [1.91789443, 1.42423172, 2.03018083, 1.83655246, 0.06128142],\n",
       "       [1.93515567, 1.44160821, 2.05049981, 1.84787557, 0.04532343],\n",
       "       [1.9524024 , 1.45897051, 2.07074383, 1.85584646, 0.03274777],\n",
       "       [1.96962597, 1.47631164, 2.0909137 , 1.86073785, 0.02329131],\n",
       "       [1.9868188 , 1.49362551, 2.11101031, 1.86301563, 0.0164963 ],\n",
       "       [2.00397472, 1.51090722, 2.13103456, 1.86324207, 0.01180701],\n",
       "       [2.02108914, 1.52815319, 2.15098722, 1.86196844, 0.00867694],\n",
       "       [2.0381588 , 1.54536095, 2.17086889, 1.85966236, 0.00664182],\n",
       "       [2.0551816 , 1.56252895, 2.19068007, 1.85668178, 0.00534584],\n",
       "       [2.07215621, 1.57965634, 2.2104211 , 1.85328176, 0.00453523],\n",
       "       [2.08908189, 1.59674269, 2.23009227, 1.84963552, 0.00403749],\n",
       "       [2.10595825, 1.61378791, 2.24969378, 1.845857  , 0.003739  ],\n",
       "       [2.12278518, 1.6307921 , 2.26922582, 1.84201965, 0.00356641],\n",
       "       [2.1395627 , 1.64775548, 2.28868852, 1.8381701 , 0.003473  ],\n",
       "       [2.15629092, 1.66467833, 2.30808205, 1.83433774, 0.00342923],\n",
       "       [2.17297004, 1.68156099, 2.32740651, 1.8305409 , 0.00341652],\n",
       "       [2.18960027, 1.69840384, 2.34666205, 1.82679097, 0.0034232 ],\n",
       "       [2.20618186, 1.71520724, 2.36584879, 1.82309495, 0.00344198],\n",
       "       [2.22271506, 1.73197158, 2.38496687, 1.81945708, 0.0034683 ],\n",
       "       [2.23920015, 1.74869724, 2.40401641, 1.81587991, 0.0034993 ],\n",
       "       [2.25563739, 1.7653846 , 2.42299756, 1.81236488, 0.00353319],\n",
       "       [2.27202705, 1.78203404, 2.44191046, 1.80891279, 0.00356886],\n",
       "       [2.2883694 , 1.79864594, 2.46075525, 1.805524  , 0.00360561],\n",
       "       [2.30466472, 1.81522067, 2.47953209, 1.8021986 , 0.003643  ],\n",
       "       [2.32091327, 1.83175858, 2.49824113, 1.79893655, 0.00368076],\n",
       "       [2.33711533, 1.84826003, 2.51688252, 1.79573767, 0.00371872],\n",
       "       [2.35327116, 1.86472539, 2.53545643, 1.79260173, 0.00375676],\n",
       "       [2.36938103, 1.88115499, 2.55396302, 1.78952847, 0.00379483],\n",
       "       [2.3854452 , 1.89754918, 2.57240247, 1.78651759, 0.00383287],\n",
       "       [2.40146395, 1.9139083 , 2.59077493, 1.78356879, 0.00387086],\n",
       "       [2.41743752, 1.93023268, 2.6090806 , 1.78068174, 0.00390879],\n",
       "       [2.43336619, 1.94652265, 2.62731963, 1.77785613, 0.00394663],\n",
       "       [2.4492502 , 1.96277853, 2.64549222, 1.77509161, 0.00398439],\n",
       "       [2.46508983, 1.97900063, 2.66359855, 1.77238788, 0.00402206],\n",
       "       [2.48088532, 1.99518928, 2.6816388 , 1.76974459, 0.00405963],\n",
       "       [2.49663693, 2.01134478, 2.69961315, 1.76716141, 0.0040971 ],\n",
       "       [2.5123449 , 2.02746744, 2.71752181, 1.76463801, 0.00413448],\n",
       "       [2.52800951, 2.04355756, 2.73536495, 1.76217407, 0.00417176],\n",
       "       [2.54363098, 2.05961544, 2.75314278, 1.75976924, 0.00420893],\n",
       "       [2.55920958, 2.07564136, 2.77085549, 1.75742321, 0.00424601],\n",
       "       [2.57474555, 2.09163561, 2.78850327, 1.75513563, 0.00428297],\n",
       "       [2.59023914, 2.10759849, 2.80608632, 1.75290619, 0.00431984],\n",
       "       [2.60569058, 2.12353027, 2.82360485, 1.75073455, 0.0043566 ],\n",
       "       [2.62110013, 2.13943124, 2.84105905, 1.74862039, 0.00439326],\n",
       "       [2.63646802, 2.15530165, 2.85844913, 1.74656338, 0.00442981],\n",
       "       [2.6517945 , 2.17114179, 2.8757753 , 1.7445632 , 0.00446625],\n",
       "       [2.6670798 , 2.18695192, 2.89303774, 1.74261951, 0.00450258],\n",
       "       [2.68232416, 2.20273231, 2.91023669, 1.740732  , 0.00453881],\n",
       "       [2.69752783, 2.21848321, 2.92737233, 1.73890034, 0.00457494],\n",
       "       [2.71269103, 2.23420489, 2.94444488, 1.7371242 , 0.00461095],\n",
       "       [2.72781399, 2.24989759, 2.96145455, 1.73540328, 0.00464685],\n",
       "       [2.74289696, 2.26556156, 2.97840154, 1.73373724, 0.00468265],\n",
       "       [2.75794015, 2.28119706, 2.99528608, 1.73212577, 0.00471834],\n",
       "       [2.77294381, 2.29680433, 3.01210836, 1.73056855, 0.00475392],\n",
       "       [2.78790815, 2.3123836 , 3.0288686 , 1.72906527, 0.00478939],\n",
       "       [2.80283341, 2.32793513, 3.04556702, 1.72761559, 0.00482475],\n",
       "       [2.81771982, 2.34345913, 3.06220383, 1.72621922, 0.00486   ],\n",
       "       [2.83256759, 2.35895585, 3.07877923, 1.72487583, 0.00489513],\n",
       "       [2.84737695, 2.37442552, 3.09529344, 1.72358512, 0.00493015],\n",
       "       [2.86214813, 2.38986837, 3.11174669, 1.72234677, 0.00496507],\n",
       "       [2.87688134, 2.40528461, 3.12813917, 1.72116046, 0.00499987],\n",
       "       [2.8915768 , 2.42067447, 3.14447111, 1.72002589, 0.00503456],\n",
       "       [2.90623473, 2.43603817, 3.16074272, 1.71894276, 0.00506914],\n",
       "       [2.92085536, 2.45137594, 3.17695422, 1.71791074, 0.00510361],\n",
       "       [2.93543889, 2.46668797, 3.19310581, 1.71692954, 0.00513797],\n",
       "       [2.94998554, 2.48197449, 3.20919772, 1.71599884, 0.00517221],\n",
       "       [2.96449552, 2.4972357 , 3.22523016, 1.71511835, 0.00520634],\n",
       "       [2.97896905, 2.51247181, 3.24120335, 1.71428777, 0.00524037],\n",
       "       [2.99340634, 2.52768303, 3.2571175 , 1.71350678, 0.00527428],\n",
       "       [3.00780759, 2.54286956, 3.27297282, 1.71277509, 0.00530807],\n",
       "       [3.02217302, 2.55803159, 3.28876954, 1.71209241, 0.00534176],\n",
       "       [3.03650284, 2.57316933, 3.30450786, 1.71145842, 0.00537533],\n",
       "       [3.05079724, 2.58828298, 3.320188  , 1.71087284, 0.00540879],\n",
       "       [3.06505644, 2.60337272, 3.33581018, 1.71033536, 0.00544214],\n",
       "       [3.07928064, 2.61843875, 3.35137461, 1.7098457 , 0.00547538],\n",
       "       [3.09347004, 2.63348126, 3.3668815 , 1.70940357, 0.00550851]])"
      ]
     },
     "execution_count": 10,
     "metadata": {},
     "output_type": "execute_result"
    }
   ],
   "source": [
    "output"
   ]
  },
  {
   "cell_type": "code",
   "execution_count": 11,
   "metadata": {},
   "outputs": [
    {
     "data": {
      "text/plain": [
       "Text(0, 0.5, 'Amount')"
      ]
     },
     "execution_count": 11,
     "metadata": {},
     "output_type": "execute_result"
    },
    {
     "data": {
      "image/png": "[encoded data removed]",
      "text/plain": [
       "<Figure size 432x288 with 1 Axes>"
      ]
     },
     "metadata": {
      "needs_background": "light"
     },
     "output_type": "display_data"
    }
   ],
   "source": [
    "plt.plot(t_array,output[:,0],label='Fru')\n",
    "plt.plot(t_array,output[:,1],label='Glc')\n",
    "plt.plot(t_array,output[:,2],label='HexP')\n",
    "plt.plot(t_array,output[:,3],label='Suc')\n",
    "plt.plot(t_array,output[:,4],label='Suc6P')\n",
    "plt.legend()\n",
    "plt.xlabel('Time')\n",
    "plt.ylabel('Amount')"
   ]
  },
  {
   "cell_type": "code",
   "execution_count": null,
   "metadata": {},
   "outputs": [],
   "source": []
  }
 ],
 "metadata": {
  "kernelspec": {
   "display_name": "Python 3",
   "language": "python",
   "name": "python3"
  },
  "language_info": {
   "codemirror_mode": {
    "name": "ipython",
    "version": 3
   },
   "file_extension": ".py",
   "mimetype": "text/x-python",
   "name": "python",
   "nbconvert_exporter": "python",
   "pygments_lexer": "ipython3",
   "version": "3.8.5"
  }
 },
 "nbformat": 4,
 "nbformat_minor": 4
}
